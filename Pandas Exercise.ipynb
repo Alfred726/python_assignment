{
  "nbformat": 4,
  "nbformat_minor": 0,
  "metadata": {
    "colab": {
      "name": "Untitled13.ipynb",
      "provenance": [],
      "authorship_tag": "ABX9TyMDpNvSJ7U88b6F8LNftLvf",
      "include_colab_link": true
    },
    "kernelspec": {
      "name": "python3",
      "display_name": "Python 3"
    },
    "language_info": {
      "name": "python"
    }
  },
  "cells": [
    {
      "cell_type": "markdown",
      "metadata": {
        "id": "view-in-github",
        "colab_type": "text"
      },
      "source": [
        "<a href=\"https://colab.research.google.com/github/Alfred726/python_assignment/blob/master/Pandas%20Exercise.ipynb\" target=\"_parent\"><img src=\"https://colab.research.google.com/assets/colab-badge.svg\" alt=\"Open In Colab\"/></a>"
      ]
    },
    {
      "cell_type": "code",
      "metadata": {
        "id": "Cd6VVYVCquXJ"
      },
      "source": [
        "import pandas as pd"
      ],
      "execution_count": 1,
      "outputs": []
    },
    {
      "cell_type": "code",
      "metadata": {
        "colab": {
          "base_uri": "https://localhost:8080/",
          "height": 725
        },
        "id": "mia35eMf_5Zx",
        "outputId": "b2017bda-70a9-45a1-f757-d4fd6b5a9d8d"
      },
      "source": [
        "data = pd.read_csv('nobel_prize.csv')\n",
        "data"
      ],
      "execution_count": 2,
      "outputs": [
        {
          "output_type": "execute_result",
          "data": {
            "text/html": [
              "<div>\n",
              "<style scoped>\n",
              "    .dataframe tbody tr th:only-of-type {\n",
              "        vertical-align: middle;\n",
              "    }\n",
              "\n",
              "    .dataframe tbody tr th {\n",
              "        vertical-align: top;\n",
              "    }\n",
              "\n",
              "    .dataframe thead th {\n",
              "        text-align: right;\n",
              "    }\n",
              "</style>\n",
              "<table border=\"1\" class=\"dataframe\">\n",
              "  <thead>\n",
              "    <tr style=\"text-align: right;\">\n",
              "      <th></th>\n",
              "      <th>Name</th>\n",
              "      <th>Year</th>\n",
              "      <th>Category</th>\n",
              "      <th>Countries</th>\n",
              "      <th>Gender</th>\n",
              "      <th>Description</th>\n",
              "      <th>Details</th>\n",
              "    </tr>\n",
              "  </thead>\n",
              "  <tbody>\n",
              "    <tr>\n",
              "      <th>0</th>\n",
              "      <td>Frédéric Passy</td>\n",
              "      <td>1901</td>\n",
              "      <td>Peace</td>\n",
              "      <td>France</td>\n",
              "      <td>Man</td>\n",
              "      <td>NaN</td>\n",
              "      <td>NaN</td>\n",
              "    </tr>\n",
              "    <tr>\n",
              "      <th>1</th>\n",
              "      <td>Sully Prudhomme</td>\n",
              "      <td>1901</td>\n",
              "      <td>Literature</td>\n",
              "      <td>France</td>\n",
              "      <td>Man</td>\n",
              "      <td>NaN</td>\n",
              "      <td>NaN</td>\n",
              "    </tr>\n",
              "    <tr>\n",
              "      <th>2</th>\n",
              "      <td>Emil Adolf von Behring</td>\n",
              "      <td>1901</td>\n",
              "      <td>Physiology or Medicine</td>\n",
              "      <td>Germany</td>\n",
              "      <td>Man</td>\n",
              "      <td>NaN</td>\n",
              "      <td>NaN</td>\n",
              "    </tr>\n",
              "    <tr>\n",
              "      <th>3</th>\n",
              "      <td>Wilhelm Röntgen</td>\n",
              "      <td>1901</td>\n",
              "      <td>Physics</td>\n",
              "      <td>Germany</td>\n",
              "      <td>Man</td>\n",
              "      <td>NaN</td>\n",
              "      <td>NaN</td>\n",
              "    </tr>\n",
              "    <tr>\n",
              "      <th>4</th>\n",
              "      <td>Jacobus Henricus van 't Hoff</td>\n",
              "      <td>1901</td>\n",
              "      <td>Chemistry</td>\n",
              "      <td>Netherlands</td>\n",
              "      <td>Man</td>\n",
              "      <td>NaN</td>\n",
              "      <td>NaN</td>\n",
              "    </tr>\n",
              "    <tr>\n",
              "      <th>...</th>\n",
              "      <td>...</td>\n",
              "      <td>...</td>\n",
              "      <td>...</td>\n",
              "      <td>...</td>\n",
              "      <td>...</td>\n",
              "      <td>...</td>\n",
              "      <td>...</td>\n",
              "    </tr>\n",
              "    <tr>\n",
              "      <th>943</th>\n",
              "      <td>Tawakkol Karman</td>\n",
              "      <td>2011</td>\n",
              "      <td>Peace</td>\n",
              "      <td>Yemen</td>\n",
              "      <td>Woman</td>\n",
              "      <td>\"For their non-violent struggle for the safety...</td>\n",
              "      <td>NaN</td>\n",
              "    </tr>\n",
              "    <tr>\n",
              "      <th>944</th>\n",
              "      <td>Toni Morrison</td>\n",
              "      <td>1993</td>\n",
              "      <td>Literature</td>\n",
              "      <td>United States</td>\n",
              "      <td>Woman</td>\n",
              "      <td>\"Who in novels characterized by visionary forc...</td>\n",
              "      <td>NaN</td>\n",
              "    </tr>\n",
              "    <tr>\n",
              "      <th>945</th>\n",
              "      <td>Tu Youyou</td>\n",
              "      <td>2015</td>\n",
              "      <td>Physiology or Medicine</td>\n",
              "      <td>China</td>\n",
              "      <td>Woman</td>\n",
              "      <td>\"For her discoveries concerning a novel therap...</td>\n",
              "      <td>NaN</td>\n",
              "    </tr>\n",
              "    <tr>\n",
              "      <th>946</th>\n",
              "      <td>Wangari Maathai</td>\n",
              "      <td>2004</td>\n",
              "      <td>Peace</td>\n",
              "      <td>Kenya</td>\n",
              "      <td>Woman</td>\n",
              "      <td>\"For her contribution to sustainable developme...</td>\n",
              "      <td>NaN</td>\n",
              "    </tr>\n",
              "    <tr>\n",
              "      <th>947</th>\n",
              "      <td>Wisława Szymborska</td>\n",
              "      <td>1996</td>\n",
              "      <td>Literature</td>\n",
              "      <td>Poland</td>\n",
              "      <td>Woman</td>\n",
              "      <td>\"For poetry that with ironic precision allows ...</td>\n",
              "      <td>NaN</td>\n",
              "    </tr>\n",
              "  </tbody>\n",
              "</table>\n",
              "<p>948 rows × 7 columns</p>\n",
              "</div>"
            ],
            "text/plain": [
              "                             Name  ...  Details\n",
              "0                  Frédéric Passy  ...      NaN\n",
              "1                 Sully Prudhomme  ...      NaN\n",
              "2          Emil Adolf von Behring  ...      NaN\n",
              "3                 Wilhelm Röntgen  ...      NaN\n",
              "4    Jacobus Henricus van 't Hoff  ...      NaN\n",
              "..                            ...  ...      ...\n",
              "943               Tawakkol Karman  ...      NaN\n",
              "944                 Toni Morrison  ...      NaN\n",
              "945                     Tu Youyou  ...      NaN\n",
              "946               Wangari Maathai  ...      NaN\n",
              "947            Wisława Szymborska  ...      NaN\n",
              "\n",
              "[948 rows x 7 columns]"
            ]
          },
          "metadata": {
            "tags": []
          },
          "execution_count": 2
        }
      ]
    },
    {
      "cell_type": "code",
      "metadata": {
        "id": "3nfVpIo-_7iN"
      },
      "source": [
        ""
      ],
      "execution_count": null,
      "outputs": []
    },
    {
      "cell_type": "markdown",
      "metadata": {
        "id": "PvffXqtHADmT"
      },
      "source": [
        "QUESTION ONE"
      ]
    },
    {
      "cell_type": "code",
      "metadata": {
        "colab": {
          "base_uri": "https://localhost:8080/"
        },
        "id": "LuQMqx4iAEsU",
        "outputId": "ddfb9aae-16f0-4f23-f2c6-8cdfce3ee39e"
      },
      "source": [
        "data.isnull().sum()"
      ],
      "execution_count": 3,
      "outputs": [
        {
          "output_type": "execute_result",
          "data": {
            "text/plain": [
              "Name             0\n",
              "Year             0\n",
              "Category         0\n",
              "Countries        0\n",
              "Gender           0\n",
              "Description    894\n",
              "Details        933\n",
              "dtype: int64"
            ]
          },
          "metadata": {
            "tags": []
          },
          "execution_count": 3
        }
      ]
    },
    {
      "cell_type": "code",
      "metadata": {
        "id": "AlmPgap_AHpf"
      },
      "source": [
        ""
      ],
      "execution_count": null,
      "outputs": []
    },
    {
      "cell_type": "markdown",
      "metadata": {
        "id": "O4lQqC8aAMTO"
      },
      "source": [
        "QUESTION TWO"
      ]
    },
    {
      "cell_type": "code",
      "metadata": {
        "id": "kDZBCiU8ANHm",
        "outputId": "b8b87267-9904-4857-8407-9d64ac914ebf",
        "colab": {
          "base_uri": "https://localhost:8080/"
        }
      },
      "source": [
        "data[\"Year\"].describe()"
      ],
      "execution_count": 4,
      "outputs": [
        {
          "output_type": "execute_result",
          "data": {
            "text/plain": [
              "count     948.000000\n",
              "mean     1971.118143\n",
              "std        33.565438\n",
              "min      1901.000000\n",
              "25%      1947.000000\n",
              "50%      1977.000000\n",
              "75%      2000.000000\n",
              "max      2019.000000\n",
              "Name: Year, dtype: float64"
            ]
          },
          "metadata": {
            "tags": []
          },
          "execution_count": 4
        }
      ]
    },
    {
      "cell_type": "code",
      "metadata": {
        "id": "grvqsQo_APDJ"
      },
      "source": [
        ""
      ],
      "execution_count": null,
      "outputs": []
    },
    {
      "cell_type": "markdown",
      "metadata": {
        "id": "zg9tCQGzATpF"
      },
      "source": [
        "QUESTION 3"
      ]
    },
    {
      "cell_type": "code",
      "metadata": {
        "id": "xoCP6XVJAUMe",
        "outputId": "54017aaf-8cbd-4422-aaab-90b77a8b45f4",
        "colab": {
          "base_uri": "https://localhost:8080/"
        }
      },
      "source": [
        "data[\"Category\"].unique()"
      ],
      "execution_count": 5,
      "outputs": [
        {
          "output_type": "execute_result",
          "data": {
            "text/plain": [
              "array(['Peace', 'Literature', 'Physiology or Medicine', 'Physics',\n",
              "       'Chemistry', 'Economics'], dtype=object)"
            ]
          },
          "metadata": {
            "tags": []
          },
          "execution_count": 5
        }
      ]
    },
    {
      "cell_type": "code",
      "metadata": {
        "id": "qs1O0oyJAWHO"
      },
      "source": [
        "results = data['Name'].value_counts()"
      ],
      "execution_count": 6,
      "outputs": []
    },
    {
      "cell_type": "code",
      "metadata": {
        "id": "HTfwZS8qAZ3d",
        "outputId": "711758e4-3ec2-47a2-a70b-8f8919fe59ab",
        "colab": {
          "base_uri": "https://localhost:8080/"
        }
      },
      "source": [
        "data['Name'].value_counts()[data['Name'].value_counts()> 1]"
      ],
      "execution_count": 7,
      "outputs": [
        {
          "output_type": "execute_result",
          "data": {
            "text/plain": [
              "International Committee of the Red Cross         3\n",
              "United Nations High Commissioner for Refugees    2\n",
              "Marie Skłodowska-Curie                           2\n",
              "Frederick Sanger                                 2\n",
              "Linus Pauling                                    2\n",
              "John Bardeen                                     2\n",
              "Name: Name, dtype: int64"
            ]
          },
          "metadata": {
            "tags": []
          },
          "execution_count": 7
        }
      ]
    },
    {
      "cell_type": "code",
      "metadata": {
        "id": "rylEE39GAbxK"
      },
      "source": [
        ""
      ],
      "execution_count": null,
      "outputs": []
    },
    {
      "cell_type": "markdown",
      "metadata": {
        "id": "EpQU8igLAfrA"
      },
      "source": [
        "QUESTION FOUR"
      ]
    },
    {
      "cell_type": "code",
      "metadata": {
        "id": "YNP6gSUeAgAy",
        "outputId": "e30194af-f554-4e6a-de35-9370e9e981fc",
        "colab": {
          "base_uri": "https://localhost:8080/"
        }
      },
      "source": [
        "data['Name']"
      ],
      "execution_count": 8,
      "outputs": [
        {
          "output_type": "execute_result",
          "data": {
            "text/plain": [
              "0                    Frédéric Passy\n",
              "1                   Sully Prudhomme\n",
              "2            Emil Adolf von Behring\n",
              "3                   Wilhelm Röntgen\n",
              "4      Jacobus Henricus van 't Hoff\n",
              "                   ...             \n",
              "943                 Tawakkol Karman\n",
              "944                   Toni Morrison\n",
              "945                       Tu Youyou\n",
              "946                 Wangari Maathai\n",
              "947              Wisława Szymborska\n",
              "Name: Name, Length: 948, dtype: object"
            ]
          },
          "metadata": {
            "tags": []
          },
          "execution_count": 8
        }
      ]
    },
    {
      "cell_type": "code",
      "metadata": {
        "id": "z0jfV8OFAihK",
        "outputId": "dd89eab0-04d3-4e4b-eb1b-5c3ed544ddd5",
        "colab": {
          "base_uri": "https://localhost:8080/",
          "height": 419
        }
      },
      "source": [
        "name_description = data[['Name', 'Description']]\n",
        "null_description = name_description[name_description['Description'].isnull()]\n",
        "null_description"
      ],
      "execution_count": 9,
      "outputs": [
        {
          "output_type": "execute_result",
          "data": {
            "text/html": [
              "<div>\n",
              "<style scoped>\n",
              "    .dataframe tbody tr th:only-of-type {\n",
              "        vertical-align: middle;\n",
              "    }\n",
              "\n",
              "    .dataframe tbody tr th {\n",
              "        vertical-align: top;\n",
              "    }\n",
              "\n",
              "    .dataframe thead th {\n",
              "        text-align: right;\n",
              "    }\n",
              "</style>\n",
              "<table border=\"1\" class=\"dataframe\">\n",
              "  <thead>\n",
              "    <tr style=\"text-align: right;\">\n",
              "      <th></th>\n",
              "      <th>Name</th>\n",
              "      <th>Description</th>\n",
              "    </tr>\n",
              "  </thead>\n",
              "  <tbody>\n",
              "    <tr>\n",
              "      <th>0</th>\n",
              "      <td>Frédéric Passy</td>\n",
              "      <td>NaN</td>\n",
              "    </tr>\n",
              "    <tr>\n",
              "      <th>1</th>\n",
              "      <td>Sully Prudhomme</td>\n",
              "      <td>NaN</td>\n",
              "    </tr>\n",
              "    <tr>\n",
              "      <th>2</th>\n",
              "      <td>Emil Adolf von Behring</td>\n",
              "      <td>NaN</td>\n",
              "    </tr>\n",
              "    <tr>\n",
              "      <th>3</th>\n",
              "      <td>Wilhelm Röntgen</td>\n",
              "      <td>NaN</td>\n",
              "    </tr>\n",
              "    <tr>\n",
              "      <th>4</th>\n",
              "      <td>Jacobus Henricus van 't Hoff</td>\n",
              "      <td>NaN</td>\n",
              "    </tr>\n",
              "    <tr>\n",
              "      <th>...</th>\n",
              "      <td>...</td>\n",
              "      <td>...</td>\n",
              "    </tr>\n",
              "    <tr>\n",
              "      <th>889</th>\n",
              "      <td>Intergovernmental Panel on Climate Change</td>\n",
              "      <td>NaN</td>\n",
              "    </tr>\n",
              "    <tr>\n",
              "      <th>890</th>\n",
              "      <td>European Union</td>\n",
              "      <td>NaN</td>\n",
              "    </tr>\n",
              "    <tr>\n",
              "      <th>891</th>\n",
              "      <td>Organisation for the Prohibition of Chemical W...</td>\n",
              "      <td>NaN</td>\n",
              "    </tr>\n",
              "    <tr>\n",
              "      <th>892</th>\n",
              "      <td>Tunisian National Dialogue Quartet</td>\n",
              "      <td>NaN</td>\n",
              "    </tr>\n",
              "    <tr>\n",
              "      <th>893</th>\n",
              "      <td>International Campaign to Abolish Nuclear Weapons</td>\n",
              "      <td>NaN</td>\n",
              "    </tr>\n",
              "  </tbody>\n",
              "</table>\n",
              "<p>894 rows × 2 columns</p>\n",
              "</div>"
            ],
            "text/plain": [
              "                                                  Name Description\n",
              "0                                       Frédéric Passy         NaN\n",
              "1                                      Sully Prudhomme         NaN\n",
              "2                               Emil Adolf von Behring         NaN\n",
              "3                                      Wilhelm Röntgen         NaN\n",
              "4                         Jacobus Henricus van 't Hoff         NaN\n",
              "..                                                 ...         ...\n",
              "889          Intergovernmental Panel on Climate Change         NaN\n",
              "890                                     European Union         NaN\n",
              "891  Organisation for the Prohibition of Chemical W...         NaN\n",
              "892                 Tunisian National Dialogue Quartet         NaN\n",
              "893  International Campaign to Abolish Nuclear Weapons         NaN\n",
              "\n",
              "[894 rows x 2 columns]"
            ]
          },
          "metadata": {
            "tags": []
          },
          "execution_count": 9
        }
      ]
    },
    {
      "cell_type": "code",
      "metadata": {
        "id": "lC069CU1Albu"
      },
      "source": [
        ""
      ],
      "execution_count": null,
      "outputs": []
    },
    {
      "cell_type": "markdown",
      "metadata": {
        "id": "AR7MX1t9AqDl"
      },
      "source": [
        "QUESTION 5"
      ]
    },
    {
      "cell_type": "code",
      "metadata": {
        "id": "2rmvYutyAqhI",
        "outputId": "613218af-f40c-49fd-b6c5-762a5552ffe6",
        "colab": {
          "base_uri": "https://localhost:8080/"
        }
      },
      "source": [
        "data.groupby(['Category']).Category.value_counts().nlargest(10)"
      ],
      "execution_count": 10,
      "outputs": [
        {
          "output_type": "execute_result",
          "data": {
            "text/plain": [
              "Category                Category              \n",
              "Physiology or Medicine  Physiology or Medicine    219\n",
              "Physics                 Physics                   213\n",
              "Chemistry               Chemistry                 184\n",
              "Peace                   Peace                     134\n",
              "Literature              Literature                116\n",
              "Economics               Economics                  82\n",
              "Name: Category, dtype: int64"
            ]
          },
          "metadata": {
            "tags": []
          },
          "execution_count": 10
        }
      ]
    },
    {
      "cell_type": "code",
      "metadata": {
        "id": "G1qdWFWuAslJ"
      },
      "source": [
        ""
      ],
      "execution_count": null,
      "outputs": []
    },
    {
      "cell_type": "markdown",
      "metadata": {
        "id": "nkQoAc6tAwGC"
      },
      "source": [
        "QUESTION SEVEN"
      ]
    },
    {
      "cell_type": "code",
      "metadata": {
        "id": "_H0XSVneAwlu",
        "outputId": "b492d0cf-c12a-45ce-f23d-ce78f820347d",
        "colab": {
          "base_uri": "https://localhost:8080/"
        }
      },
      "source": [
        "data_female = data['Gender'] == 'Female'\n",
        "data_female.value_counts()"
      ],
      "execution_count": 11,
      "outputs": [
        {
          "output_type": "execute_result",
          "data": {
            "text/plain": [
              "False    948\n",
              "Name: Gender, dtype: int64"
            ]
          },
          "metadata": {
            "tags": []
          },
          "execution_count": 11
        }
      ]
    },
    {
      "cell_type": "code",
      "metadata": {
        "id": "vayugSP_Ayx6"
      },
      "source": [
        ""
      ],
      "execution_count": null,
      "outputs": []
    },
    {
      "cell_type": "markdown",
      "metadata": {
        "id": "O2uaZDV2A1WZ"
      },
      "source": [
        "QUESTION EIGHT"
      ]
    },
    {
      "cell_type": "code",
      "metadata": {
        "id": "6X4kteFvA1sV",
        "outputId": "45ee20d8-440e-4a72-b532-ec22cf397bfd",
        "colab": {
          "base_uri": "https://localhost:8080/",
          "height": 708
        }
      },
      "source": [
        "data_countries = data[data.Countries=='United States']\n",
        "data_countries"
      ],
      "execution_count": 12,
      "outputs": [
        {
          "output_type": "execute_result",
          "data": {
            "text/html": [
              "<div>\n",
              "<style scoped>\n",
              "    .dataframe tbody tr th:only-of-type {\n",
              "        vertical-align: middle;\n",
              "    }\n",
              "\n",
              "    .dataframe tbody tr th {\n",
              "        vertical-align: top;\n",
              "    }\n",
              "\n",
              "    .dataframe thead th {\n",
              "        text-align: right;\n",
              "    }\n",
              "</style>\n",
              "<table border=\"1\" class=\"dataframe\">\n",
              "  <thead>\n",
              "    <tr style=\"text-align: right;\">\n",
              "      <th></th>\n",
              "      <th>Name</th>\n",
              "      <th>Year</th>\n",
              "      <th>Category</th>\n",
              "      <th>Countries</th>\n",
              "      <th>Gender</th>\n",
              "      <th>Description</th>\n",
              "      <th>Details</th>\n",
              "    </tr>\n",
              "  </thead>\n",
              "  <tbody>\n",
              "    <tr>\n",
              "      <th>33</th>\n",
              "      <td>Theodore Roosevelt</td>\n",
              "      <td>1906</td>\n",
              "      <td>Peace</td>\n",
              "      <td>United States</td>\n",
              "      <td>Man</td>\n",
              "      <td>NaN</td>\n",
              "      <td>NaN</td>\n",
              "    </tr>\n",
              "    <tr>\n",
              "      <th>67</th>\n",
              "      <td>Elihu Root</td>\n",
              "      <td>1912</td>\n",
              "      <td>Peace</td>\n",
              "      <td>United States</td>\n",
              "      <td>Man</td>\n",
              "      <td>NaN</td>\n",
              "      <td>NaN</td>\n",
              "    </tr>\n",
              "    <tr>\n",
              "      <th>75</th>\n",
              "      <td>Theodore W. Richards</td>\n",
              "      <td>1914</td>\n",
              "      <td>Chemistry</td>\n",
              "      <td>United States</td>\n",
              "      <td>Man</td>\n",
              "      <td>NaN</td>\n",
              "      <td>NaN</td>\n",
              "    </tr>\n",
              "    <tr>\n",
              "      <th>89</th>\n",
              "      <td>Woodrow Wilson</td>\n",
              "      <td>1919</td>\n",
              "      <td>Peace</td>\n",
              "      <td>United States</td>\n",
              "      <td>Man</td>\n",
              "      <td>NaN</td>\n",
              "      <td>NaN</td>\n",
              "    </tr>\n",
              "    <tr>\n",
              "      <th>110</th>\n",
              "      <td>Robert Andrews Millikan</td>\n",
              "      <td>1923</td>\n",
              "      <td>Physics</td>\n",
              "      <td>United States</td>\n",
              "      <td>Man</td>\n",
              "      <td>NaN</td>\n",
              "      <td>NaN</td>\n",
              "    </tr>\n",
              "    <tr>\n",
              "      <th>...</th>\n",
              "      <td>...</td>\n",
              "      <td>...</td>\n",
              "      <td>...</td>\n",
              "      <td>...</td>\n",
              "      <td>...</td>\n",
              "      <td>...</td>\n",
              "      <td>...</td>\n",
              "    </tr>\n",
              "    <tr>\n",
              "      <th>921</th>\n",
              "      <td>Jody Williams</td>\n",
              "      <td>1997</td>\n",
              "      <td>Peace</td>\n",
              "      <td>United States</td>\n",
              "      <td>Woman</td>\n",
              "      <td>\"For their work for the banning and clearing o...</td>\n",
              "      <td>NaN</td>\n",
              "    </tr>\n",
              "    <tr>\n",
              "      <th>923</th>\n",
              "      <td>Linda B. Buck</td>\n",
              "      <td>2004</td>\n",
              "      <td>Physiology or Medicine</td>\n",
              "      <td>United States</td>\n",
              "      <td>Woman</td>\n",
              "      <td>\"For their discoveries of odorant receptors an...</td>\n",
              "      <td>NaN</td>\n",
              "    </tr>\n",
              "    <tr>\n",
              "      <th>935</th>\n",
              "      <td>Pearl S. Buck</td>\n",
              "      <td>1938</td>\n",
              "      <td>Literature</td>\n",
              "      <td>United States</td>\n",
              "      <td>Woman</td>\n",
              "      <td>\"For her rich and truly epic descriptions of p...</td>\n",
              "      <td>NaN</td>\n",
              "    </tr>\n",
              "    <tr>\n",
              "      <th>938</th>\n",
              "      <td>Rosalyn Sussman Yalow</td>\n",
              "      <td>1977</td>\n",
              "      <td>Physiology or Medicine</td>\n",
              "      <td>United States</td>\n",
              "      <td>Woman</td>\n",
              "      <td>\"For the development of radioimmunoassays of p...</td>\n",
              "      <td>NaN</td>\n",
              "    </tr>\n",
              "    <tr>\n",
              "      <th>944</th>\n",
              "      <td>Toni Morrison</td>\n",
              "      <td>1993</td>\n",
              "      <td>Literature</td>\n",
              "      <td>United States</td>\n",
              "      <td>Woman</td>\n",
              "      <td>\"Who in novels characterized by visionary forc...</td>\n",
              "      <td>NaN</td>\n",
              "    </tr>\n",
              "  </tbody>\n",
              "</table>\n",
              "<p>275 rows × 7 columns</p>\n",
              "</div>"
            ],
            "text/plain": [
              "                        Name  ...  Details\n",
              "33        Theodore Roosevelt  ...      NaN\n",
              "67                Elihu Root  ...      NaN\n",
              "75      Theodore W. Richards  ...      NaN\n",
              "89            Woodrow Wilson  ...      NaN\n",
              "110  Robert Andrews Millikan  ...      NaN\n",
              "..                       ...  ...      ...\n",
              "921            Jody Williams  ...      NaN\n",
              "923            Linda B. Buck  ...      NaN\n",
              "935            Pearl S. Buck  ...      NaN\n",
              "938    Rosalyn Sussman Yalow  ...      NaN\n",
              "944            Toni Morrison  ...      NaN\n",
              "\n",
              "[275 rows x 7 columns]"
            ]
          },
          "metadata": {
            "tags": []
          },
          "execution_count": 12
        }
      ]
    },
    {
      "cell_type": "code",
      "metadata": {
        "id": "GAiuQHgNA3UL",
        "outputId": "250fd6a3-4cc2-408c-dd09-fc80d8f759b6",
        "colab": {
          "base_uri": "https://localhost:8080/"
        }
      },
      "source": [
        "united_states_female = data_countries['Gender']\n",
        "united_states_female.value_counts()"
      ],
      "execution_count": 13,
      "outputs": [
        {
          "output_type": "execute_result",
          "data": {
            "text/plain": [
              "Man             262\n",
              "Woman            12\n",
              "Organization      1\n",
              "Name: Gender, dtype: int64"
            ]
          },
          "metadata": {
            "tags": []
          },
          "execution_count": 13
        }
      ]
    },
    {
      "cell_type": "code",
      "metadata": {
        "id": "BBs_m6TxA51z",
        "outputId": "a9df112b-17ba-4bec-fc6f-219175d6dfbc",
        "colab": {
          "base_uri": "https://localhost:8080/",
          "height": 80
        }
      },
      "source": [
        "data_countries.sort_values(by='Name', ascending=False).head(1)"
      ],
      "execution_count": 14,
      "outputs": [
        {
          "output_type": "execute_result",
          "data": {
            "text/html": [
              "<div>\n",
              "<style scoped>\n",
              "    .dataframe tbody tr th:only-of-type {\n",
              "        vertical-align: middle;\n",
              "    }\n",
              "\n",
              "    .dataframe tbody tr th {\n",
              "        vertical-align: top;\n",
              "    }\n",
              "\n",
              "    .dataframe thead th {\n",
              "        text-align: right;\n",
              "    }\n",
              "</style>\n",
              "<table border=\"1\" class=\"dataframe\">\n",
              "  <thead>\n",
              "    <tr style=\"text-align: right;\">\n",
              "      <th></th>\n",
              "      <th>Name</th>\n",
              "      <th>Year</th>\n",
              "      <th>Category</th>\n",
              "      <th>Countries</th>\n",
              "      <th>Gender</th>\n",
              "      <th>Description</th>\n",
              "      <th>Details</th>\n",
              "    </tr>\n",
              "  </thead>\n",
              "  <tbody>\n",
              "    <tr>\n",
              "      <th>89</th>\n",
              "      <td>Woodrow Wilson</td>\n",
              "      <td>1919</td>\n",
              "      <td>Peace</td>\n",
              "      <td>United States</td>\n",
              "      <td>Man</td>\n",
              "      <td>NaN</td>\n",
              "      <td>NaN</td>\n",
              "    </tr>\n",
              "  </tbody>\n",
              "</table>\n",
              "</div>"
            ],
            "text/plain": [
              "              Name  Year Category      Countries Gender Description Details\n",
              "89  Woodrow Wilson  1919    Peace  United States    Man         NaN     NaN"
            ]
          },
          "metadata": {
            "tags": []
          },
          "execution_count": 14
        }
      ]
    },
    {
      "cell_type": "code",
      "metadata": {
        "id": "H20ESBdzA7pp"
      },
      "source": [
        ""
      ],
      "execution_count": null,
      "outputs": []
    }
  ]
}